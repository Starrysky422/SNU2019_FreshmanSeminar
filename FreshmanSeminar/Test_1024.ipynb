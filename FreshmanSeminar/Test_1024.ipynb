{
 "cells": [
  {
   "cell_type": "code",
   "execution_count": 33,
   "metadata": {},
   "outputs": [
    {
     "ename": "ImportError",
     "evalue": "cannot import name 'graph_draw'",
     "output_type": "error",
     "traceback": [
      "\u001b[0;31m---------------------------------------------------------------------------\u001b[0m",
      "\u001b[0;31mImportError\u001b[0m                               Traceback (most recent call last)",
      "\u001b[0;32m<ipython-input-33-d18cb4574a63>\u001b[0m in \u001b[0;36m<module>\u001b[0;34m\u001b[0m\n\u001b[1;32m      6\u001b[0m \u001b[0;32mfrom\u001b[0m \u001b[0mgraph_tool\u001b[0m\u001b[0;34m.\u001b[0m\u001b[0mall\u001b[0m \u001b[0;32mimport\u001b[0m \u001b[0;34m*\u001b[0m\u001b[0;34m\u001b[0m\u001b[0m\n\u001b[1;32m      7\u001b[0m \u001b[0;32mimport\u001b[0m \u001b[0mgraph_tool\u001b[0m\u001b[0;34m.\u001b[0m\u001b[0mdraw\u001b[0m \u001b[0;32mas\u001b[0m \u001b[0mgd\u001b[0m\u001b[0;34m\u001b[0m\u001b[0m\n\u001b[0;32m----> 8\u001b[0;31m \u001b[0;32mfrom\u001b[0m \u001b[0mgraph_tool\u001b[0m\u001b[0;34m.\u001b[0m\u001b[0mdraw\u001b[0m \u001b[0;32mimport\u001b[0m \u001b[0mgraph_draw\u001b[0m\u001b[0;34m\u001b[0m\u001b[0m\n\u001b[0m\u001b[1;32m      9\u001b[0m \u001b[0mprint\u001b[0m\u001b[0;34m(\u001b[0m\u001b[0mos\u001b[0m\u001b[0;34m.\u001b[0m\u001b[0mgetcwd\u001b[0m\u001b[0;34m(\u001b[0m\u001b[0;34m)\u001b[0m\u001b[0;34m)\u001b[0m\u001b[0;34m\u001b[0m\u001b[0m\n\u001b[1;32m     10\u001b[0m \u001b[0;31m#os.chdir('')\u001b[0m\u001b[0;34m\u001b[0m\u001b[0;34m\u001b[0m\u001b[0m\n",
      "\u001b[0;31mImportError\u001b[0m: cannot import name 'graph_draw'"
     ]
    }
   ],
   "source": [
    "import numpy as np\n",
    "import os\n",
    "import matplotlib.pyplot as plt\n",
    "from collections import deque\n",
    "import random\n",
    "from graph_tool.all import *\n",
    "import graph_tool.draw as gd\n",
    "print(os.getcwd())\n",
    "#os.chdir('')\n",
    "log_name = './log.txt'\n",
    "print(os.getcwd())"
   ]
  },
  {
   "cell_type": "code",
   "execution_count": 3,
   "metadata": {},
   "outputs": [
    {
     "name": "stdout",
     "output_type": "stream",
     "text": [
      "[[   0    1]\n",
      " [   0    2]\n",
      " [   0    3]\n",
      " ...\n",
      " [4027 4032]\n",
      " [4027 4038]\n",
      " [4031 4038]]\n",
      "88234\n"
     ]
    }
   ],
   "source": [
    "FB = np.loadtxt(fname = './facebook_combined.txt', delimiter=' ', comments='#', dtype=int)\n",
    "print(FB)\n",
    "print(len(FB))"
   ]
  },
  {
   "cell_type": "code",
   "execution_count": 4,
   "metadata": {},
   "outputs": [
    {
     "name": "stdout",
     "output_type": "stream",
     "text": [
      "28980\n"
     ]
    }
   ],
   "source": [
    "A = np.loadtxt(fname = './CA-GrQc.txt', delimiter='\\t', comments='#', dtype=int)\n",
    "print(len(A))"
   ]
  },
  {
   "cell_type": "code",
   "execution_count": 5,
   "metadata": {},
   "outputs": [],
   "source": [
    "def getdeg(G,breaks=None,st=0):\n",
    "    deg = {}\n",
    "    for p in G:\n",
    "        #print(p[0], p[1])\n",
    "        if deg.get(p[0]) is None:\n",
    "            deg[p[0]] = 1\n",
    "        if deg.get(p[1]) is None:\n",
    "            deg[p[1]] = 1\n",
    "        deg[p[0]] = deg[p[0]] + 1\n",
    "        deg[p[1]] = deg[p[1]] + 1\n",
    "#print(deg)\n",
    "    n = max(deg.values())\n",
    "    print(n)\n",
    "    H = [0] * (n + 1)\n",
    "    for v in deg.values():\n",
    "        H[v] = H[v] + 1\n",
    "    print(H[0])\n",
    "    X = np.arange(st,n+1)\n",
    "    if not breaks:\n",
    "        breaks = len(X)\n",
    "    _ = plt.hist(X, bins = breaks, weights=H[st:n+1])"
   ]
  },
  {
   "cell_type": "code",
   "execution_count": 6,
   "metadata": {},
   "outputs": [
    {
     "name": "stdout",
     "output_type": "stream",
     "text": [
      "163\n",
      "0\n"
     ]
    },
    {
     "data": {
      "image/png": "[encoded data removed]",
      "text/plain": [
       "<Figure size 432x288 with 1 Axes>"
      ]
     },
     "metadata": {
      "needs_background": "light"
     },
     "output_type": "display_data"
    }
   ],
   "source": [
    "getdeg(A)"
   ]
  },
  {
   "cell_type": "code",
   "execution_count": 7,
   "metadata": {},
   "outputs": [
    {
     "name": "stdout",
     "output_type": "stream",
     "text": [
      "1046\n",
      "0\n"
     ]
    },
    {
     "data": {
      "image/png": "[encoded data removed]",
      "text/plain": [
       "<Figure size 432x288 with 1 Axes>"
      ]
     },
     "metadata": {
      "needs_background": "light"
     },
     "output_type": "display_data"
    }
   ],
   "source": [
    "getdeg(FB, breaks=15, st = 200)"
   ]
  },
  {
   "cell_type": "code",
   "execution_count": 8,
   "metadata": {},
   "outputs": [
    {
     "name": "stdout",
     "output_type": "stream",
     "text": [
      "[8193, 24578, 8195, 16389, 24582, 24583, 8200, 16393, 8198, 24587, 24589, 8206, 13, 8208, 24592, 24594, 8211, 24595, 24597, 24593, 8215, 24, 8216, 26, 8219, 27, 29, 16414, 8222, 8224, 24601, 25, 28, 16415, 24614, 8231, 24616, 24617, 24615, 24620, 45, 46, 16429, 16433, 62, 8254, 24640, 65, 8255, 8261]\n",
      "[0, 1, 2, 3, 4, 5, 6, 7, 8, 9, 10, 11, 12, 13, 14, 15, 16, 17, 18, 19, 20, 21, 22, 23, 24, 25, 26, 27, 28, 29, 30, 31, 32, 33, 34, 35, 36, 37, 38, 39, 40, 41, 42, 43, 44, 45, 46, 47, 48, 49]\n"
     ]
    }
   ],
   "source": [
    "def dehash_and_listize(G):\n",
    "    hasher = []\n",
    "    for e in G:\n",
    "        hasher.append(e[0])\n",
    "        hasher.append(e[1])\n",
    "    hasher = list(set(hasher))\n",
    "    print(hasher[:50])\n",
    "    dehasher = {}\n",
    "    for i, h in enumerate(hasher):\n",
    "        dehasher[h] = i \n",
    "    \n",
    "    n = len(hasher)\n",
    "    adj_G = [[] for _ in range(n)]\n",
    "    for e in G:\n",
    "        if e[0] == e[1]: continue\n",
    "        adj_G[dehasher[e[0]]].append(dehasher[e[1]])\n",
    "        adj_G[dehasher[e[1]]].append(dehasher[e[0]])\n",
    "    #print(type(G))\n",
    "    return hasher, adj_G\n",
    "\n",
    "hasher_A,adjlist_A = dehash_and_listize(A)\n",
    "hasher_FB,adjlist_FB = dehash_and_listize(FB)\n",
    "#print(hasher_A[:-20:-1])\n",
    "#print(max(dehashed_A.reshape(-1)))\n",
    "#for i in range(20):\n",
    "#    print(hasher_A[i],end = ' : ')\n",
    "#    for j in adjlist_A[i]:\n",
    "#        print(hasher_A[j], end=' ')\n",
    "#    print()\n"
   ]
  },
  {
   "cell_type": "code",
   "execution_count": 10,
   "metadata": {},
   "outputs": [],
   "source": [
    "def calc_efficiencies(adj_L):\n",
    "    n = len(adj_L)\n",
    "    dis = [[n + 1] * n for _ in range(n)]\n",
    "    for source in range(n):\n",
    "        if source % 500 == 0:\n",
    "            print(source)\n",
    "        D = dis[source]\n",
    "        D[source] = 0\n",
    "        Q = deque([])\n",
    "        Q.append(source)\n",
    "        while len(Q) > 0:\n",
    "            f = Q.popleft()\n",
    "            for u in adj_L[f]:\n",
    "                if D[u] > D[f] + 1:\n",
    "                    D[u] = D[f] + 1\n",
    "                    Q.append(u)\n",
    "    \n",
    "    glob_eff = 0\n",
    "    for i in range(n):\n",
    "        for j in range(i+1,n):\n",
    "            if dis[i][j] == n + 1:\n",
    "                continue\n",
    "            glob_eff += 1 / dis[i][j]\n",
    "            \n",
    "    glob_eff /= n * (n-1) // 2\n",
    "    print('global efficiency : ', glob_eff)\n",
    "    \n",
    "    return glob_eff, dis"
   ]
  },
  {
   "cell_type": "code",
   "execution_count": 11,
   "metadata": {},
   "outputs": [
    {
     "name": "stdout",
     "output_type": "stream",
     "text": [
      "0\n",
      "500\n",
      "1000\n",
      "1500\n",
      "2000\n",
      "2500\n",
      "3000\n",
      "3500\n",
      "4000\n",
      "4500\n",
      "5000\n",
      "global efficiency :  0.11283474592043267\n"
     ]
    }
   ],
   "source": [
    "A_ge, A_dis = calc_efficiencies(adjlist_A) "
   ]
  },
  {
   "cell_type": "code",
   "execution_count": 10,
   "metadata": {},
   "outputs": [
    {
     "name": "stdout",
     "output_type": "stream",
     "text": [
      "0\n",
      "500\n",
      "1000\n",
      "1500\n",
      "2000\n",
      "2500\n",
      "3000\n",
      "3500\n",
      "4000\n",
      "global efficiency :  0.3065781479571354\n"
     ]
    }
   ],
   "source": [
    "FB_ge,FB_dis = calc_efficiencies(adjlist_FB)"
   ]
  },
  {
   "cell_type": "code",
   "execution_count": 12,
   "metadata": {},
   "outputs": [
    {
     "name": "stdout",
     "output_type": "stream",
     "text": [
      "[[5, 6], [2], [1, 5, 6, 8], [6, 9], [5], [0, 2, 4, 8], [0, 2, 3, 7, 8], [6], [2, 5, 6], [3]]\n"
     ]
    }
   ],
   "source": [
    "def erdos_renyi(n = 5000, p = 0.5):\n",
    "    adj_L = [[] for _ in range(n)]\n",
    "    for i in range(n):\n",
    "        for j in range(i+1, n):\n",
    "            if random.random() < p:\n",
    "                adj_L[i].append(j)\n",
    "                adj_L[j].append(i)\n",
    "    return adj_L\n",
    "\n",
    "test_adj = erdos_renyi(10,0.3)\n",
    "print(test_adj)"
   ]
  },
  {
   "cell_type": "code",
   "execution_count": null,
   "metadata": {},
   "outputs": [],
   "source": [
    "#Erdos-Renyi graph with p = 0.01\n",
    "rndgph_erdos = erdos_renyi(5000,0.01)\n",
    "_,__ = calc_efficiencies(rndgph_erdos)\n"
   ]
  },
  {
   "cell_type": "code",
   "execution_count": null,
   "metadata": {},
   "outputs": [],
   "source": [
    "#p = 0.005\n",
    "rndgphs_erdos_2 = erdos_renyi(5000,0.005)\n",
    "_,__calc_efficiencies(rndgphs_erdos_2)"
   ]
  },
  {
   "cell_type": "code",
   "execution_count": 15,
   "metadata": {},
   "outputs": [
    {
     "name": "stdout",
     "output_type": "stream",
     "text": [
      "[[1, 2, 18, 19, 20, 22], [0, 3, 18, 15, 21, 22], [0, 4, 5, 20, 22], [1, 4, 6, 11, 20, 22], [2, 3, 5, 6, 20, 21, 22], [2, 4, 20, 21, 22], [3, 4, 7, 8, 9, 20], [6, 8, 9, 10, 20, 21, 22], [6, 7, 14, 20, 21, 22], [6, 7, 10, 20, 21, 22], [7, 9, 11, 12, 13, 20, 21], [10, 12, 13, 3, 20, 21, 22], [10, 11, 13, 15, 20, 21, 22], [10, 11, 12, 14, 16, 20, 21, 22], [13, 15, 16, 17, 8, 21], [12, 14, 16, 17, 18, 1, 20, 21, 22], [13, 14, 15, 17, 18, 19, 21, 22], [14, 15, 16, 19, 21, 22], [15, 16, 19, 0, 1, 20, 21, 22], [16, 17, 18, 0, 20, 21, 22], [15, 2, 7, 19, 10, 0, 12, 4, 5, 8, 3, 9, 13, 6, 11, 18], [8, 9, 19, 16, 18, 1, 10, 14, 11, 12, 7, 4, 15, 5, 17, 13], [17, 4, 16, 19, 12, 9, 7, 5, 1, 13, 3, 18, 15, 2, 0, 11, 8]]\n"
     ]
    }
   ],
   "source": [
    "def small_world_network(n = 5000, k = 20, b = 0.5, add = 0, hubs = 0, phub = 0.1):    \n",
    "    # 2kb ~ mean deg, add : additional random edge \n",
    "    G = [[] for _ in range(n + hubs)]\n",
    "    for i in range(n):\n",
    "        for j in range(1,k+1):\n",
    "            if random.random() < b:\n",
    "                t = (i+j)%n\n",
    "                G[i].append(t)\n",
    "                G[t].append(i)\n",
    "    S = set()\n",
    "    while len(S) < add:\n",
    "        i = random.randint(0,n-1)\n",
    "        j = random.randint(i+k+1,i+n-k-1)\n",
    "        j %= n\n",
    "        if i > j:\n",
    "            i, j = j, i\n",
    "        S.add((i,j))\n",
    "    #print(S)\n",
    "    for elem in S:\n",
    "        G[elem[0]].append(elem[1])\n",
    "        G[elem[1]].append(elem[0])\n",
    "    \n",
    "    hubset = [i for i in range(n)]\n",
    "    for i in range(hubs):\n",
    "        random.shuffle(hubset)\n",
    "        for j in range(int(len(hubset) * phub)):\n",
    "            G[hubset[j]].append(n + i)\n",
    "            G[n + i].append(hubset[j])\n",
    "        hubset.append(n + i)\n",
    "    return G\n",
    "\n",
    "adj_swn = small_world_network(20, 3, 0.7,3, 3, 0.8)\n",
    "print(adj_swn)"
   ]
  },
  {
   "cell_type": "code",
   "execution_count": 16,
   "metadata": {},
   "outputs": [
    {
     "name": "stdout",
     "output_type": "stream",
     "text": [
      "0\n",
      "500\n",
      "1000\n",
      "1500\n",
      "2000\n",
      "2500\n",
      "3000\n",
      "3500\n",
      "4000\n",
      "4500\n",
      "global efficiency :  0.1463199223477804\n"
     ]
    }
   ],
   "source": [
    "adj_swn2 = small_world_network(n = 5000, k = 30, b = 0.25, add = 100)\n",
    "\n",
    "_, __ = calc_efficiencies(adj_swn2)"
   ]
  },
  {
   "cell_type": "code",
   "execution_count": 17,
   "metadata": {},
   "outputs": [
    {
     "name": "stdout",
     "output_type": "stream",
     "text": [
      "0\n",
      "500\n",
      "1000\n",
      "1500\n",
      "2000\n",
      "2500\n",
      "3000\n",
      "3500\n",
      "4000\n",
      "4500\n",
      "global efficiency :  0.05171943461995633\n"
     ]
    }
   ],
   "source": [
    "adj_swn3 = small_world_network(n = 5000, k = 30, b = 0.25, add = 0)\n",
    "_, __ = calc_efficiencies(adj_swn3)"
   ]
  },
  {
   "cell_type": "code",
   "execution_count": 18,
   "metadata": {},
   "outputs": [
    {
     "name": "stdout",
     "output_type": "stream",
     "text": [
      "0\n",
      "500\n",
      "1000\n",
      "1500\n",
      "2000\n",
      "2500\n",
      "3000\n",
      "3500\n",
      "4000\n",
      "4500\n",
      "global efficiency :  0.1663628046632056\n"
     ]
    }
   ],
   "source": [
    "adj_swn4 = small_world_network(n = 5000, k = 30, b = 0.25, add = 200)\n",
    "_, __ = calc_efficiencies(adj_swn4)"
   ]
  },
  {
   "cell_type": "code",
   "execution_count": 19,
   "metadata": {},
   "outputs": [
    {
     "name": "stdout",
     "output_type": "stream",
     "text": [
      "0\n",
      "500\n",
      "1000\n",
      "1500\n",
      "2000\n",
      "2500\n",
      "3000\n",
      "3500\n",
      "4000\n",
      "4500\n",
      "global efficiency :  0.1604281065230603\n"
     ]
    }
   ],
   "source": [
    "adj_swn5 = small_world_network(n = 5000, k = 30, b = 0.5, add = 100)\n",
    "_, __ = calc_efficiencies(adj_swn5)"
   ]
  },
  {
   "cell_type": "code",
   "execution_count": 20,
   "metadata": {},
   "outputs": [
    {
     "name": "stdout",
     "output_type": "stream",
     "text": [
      "0\n",
      "500\n",
      "1000\n",
      "1500\n",
      "2000\n",
      "2500\n",
      "3000\n",
      "3500\n",
      "4000\n",
      "4500\n",
      "5000\n",
      "global efficiency :  0.3444325859225625\n"
     ]
    }
   ],
   "source": [
    "adj_swn_with_hub = small_world_network(n = 5000, k = 30, b = 0.5, \n",
    "                                       add = 100, hubs = 40, phub = 0.04)\n",
    "_, __ = calc_efficiencies(adj_swn_with_hub)"
   ]
  },
  {
   "cell_type": "code",
   "execution_count": 24,
   "metadata": {},
   "outputs": [
    {
     "name": "stdout",
     "output_type": "stream",
     "text": [
      "n =  23\n",
      "0\n",
      "Local efficiency :  0.530681402995981 \n",
      "Variance :  0.0205727569392411\n"
     ]
    }
   ],
   "source": [
    "def local_efficiencies(adj_L, use_log = True):\n",
    "    n = len(adj_L)\n",
    "    print(\"n = \", n)\n",
    "    adj_M = [[False]*n for _ in range(n)]\n",
    "    for i in range(n):\n",
    "        for j in adj_L[i]:\n",
    "            adj_M[i][j] = True\n",
    "    tot_loc_eff = 0\n",
    "    var_loc_eff = 0\n",
    "    for source in range(n):\n",
    "        if source % 500 == 0:\n",
    "            print(source)\n",
    "        B = adj_L[source]\n",
    "        k = len(B)\n",
    "        if k == 0:\n",
    "            print(\"I'm a nerd!!!!!!\")\n",
    "            continue\n",
    "        dis = [[k + 1] * k for _ in range(k)]\n",
    "        for i in range(k):\n",
    "            dq = deque([i])\n",
    "            D = dis[i]\n",
    "            D[i] = 0\n",
    "            while len(dq) > 0:\n",
    "                f = dq.popleft()\n",
    "                for j in range(len(B)):\n",
    "                    if not adj_M[B[i]][B[j]] or D[j] <= D[i] + 1:\n",
    "                        continue\n",
    "                    D[j] = D[i] + 1\n",
    "                    dq.append(j)\n",
    "        loc_eff = 0\n",
    "        for i in range(k):\n",
    "            for j in range(i+1, k):\n",
    "                if dis[i][j] == k + 1:\n",
    "                    continue\n",
    "                loc_eff += 1 / dis[i][j]\n",
    "        if k > 1:\n",
    "            loc_eff /= k * (k-1) / 2\n",
    "        tot_loc_eff += loc_eff\n",
    "        var_loc_eff += loc_eff ** 2\n",
    "    tot_loc_eff /= n\n",
    "    var_loc_eff = var_loc_eff / n - tot_loc_eff ** 2\n",
    "    print(\"Local efficiency : \", tot_loc_eff, \"\\nVariance : \", var_loc_eff)\n",
    "    if use_log :\n",
    "        f = open(log_name, 'at')\n",
    "        f.write(\"Local efficiency : {0:.3f}\\nVariance : {1:.3f}\\n\".\n",
    "                format(tot_loc_eff, var_loc_eff))\n",
    "        f.close()\n",
    "    \n",
    "    return tot_loc_eff, var_loc_eff\n",
    "\n",
    "_, __ = local_efficiencies(adj_swn)"
   ]
  },
  {
   "cell_type": "code",
   "execution_count": null,
   "metadata": {},
   "outputs": [],
   "source": [
    "local_efficiencies(adjlist_FB)"
   ]
  },
  {
   "cell_type": "code",
   "execution_count": null,
   "metadata": {},
   "outputs": [],
   "source": [
    "local_efficiencies(adj_swn_with_hub)"
   ]
  },
  {
   "cell_type": "code",
   "execution_count": null,
   "metadata": {},
   "outputs": [],
   "source": [
    "local_efficiencies(adjlist_A)"
   ]
  },
  {
   "cell_type": "code",
   "execution_count": 35,
   "metadata": {},
   "outputs": [
    {
     "ename": "AttributeError",
     "evalue": "module 'graph_tool.draw' has no attribute 'graph_draw'",
     "output_type": "error",
     "traceback": [
      "\u001b[0;31m---------------------------------------------------------------------------\u001b[0m",
      "\u001b[0;31mAttributeError\u001b[0m                            Traceback (most recent call last)",
      "\u001b[0;32m<ipython-input-35-4f7bce95b36a>\u001b[0m in \u001b[0;36m<module>\u001b[0;34m\u001b[0m\n\u001b[1;32m     11\u001b[0m     \u001b[0mgd\u001b[0m\u001b[0;34m.\u001b[0m\u001b[0mgraph_draw\u001b[0m\u001b[0;34m(\u001b[0m\u001b[0mg\u001b[0m\u001b[0;34m,\u001b[0m \u001b[0mpos\u001b[0m\u001b[0;34m,\u001b[0m \u001b[0moutput_size\u001b[0m \u001b[0;34m=\u001b[0m \u001b[0;34m(\u001b[0m\u001b[0;36m1000\u001b[0m\u001b[0;34m,\u001b[0m\u001b[0;36m1000\u001b[0m\u001b[0;34m)\u001b[0m\u001b[0;34m,\u001b[0m \u001b[0mvertex_color\u001b[0m \u001b[0;34m=\u001b[0m \u001b[0;34m[\u001b[0m\u001b[0;36m1\u001b[0m\u001b[0;34m,\u001b[0m\u001b[0;36m1\u001b[0m\u001b[0;34m,\u001b[0m\u001b[0;36m1\u001b[0m\u001b[0;34m,\u001b[0m\u001b[0;36m0\u001b[0m\u001b[0;34m]\u001b[0m\u001b[0;34m)\u001b[0m\u001b[0;34m\u001b[0m\u001b[0m\n\u001b[1;32m     12\u001b[0m \u001b[0;34m\u001b[0m\u001b[0m\n\u001b[0;32m---> 13\u001b[0;31m \u001b[0mdraw_network\u001b[0m\u001b[0;34m(\u001b[0m\u001b[0madj_swn\u001b[0m\u001b[0;34m)\u001b[0m\u001b[0;34m\u001b[0m\u001b[0m\n\u001b[0m",
      "\u001b[0;32m<ipython-input-35-4f7bce95b36a>\u001b[0m in \u001b[0;36mdraw_network\u001b[0;34m(adj_L)\u001b[0m\n\u001b[1;32m      9\u001b[0m             \u001b[0me\u001b[0m \u001b[0;34m=\u001b[0m \u001b[0mg\u001b[0m\u001b[0;34m.\u001b[0m\u001b[0madd_edge\u001b[0m\u001b[0;34m(\u001b[0m\u001b[0mg\u001b[0m\u001b[0;34m.\u001b[0m\u001b[0mvertex\u001b[0m\u001b[0;34m(\u001b[0m\u001b[0mi\u001b[0m\u001b[0;34m)\u001b[0m\u001b[0;34m,\u001b[0m \u001b[0mg\u001b[0m\u001b[0;34m.\u001b[0m\u001b[0mvertex\u001b[0m\u001b[0;34m(\u001b[0m\u001b[0mj\u001b[0m\u001b[0;34m)\u001b[0m\u001b[0;34m)\u001b[0m\u001b[0;34m\u001b[0m\u001b[0m\n\u001b[1;32m     10\u001b[0m     \u001b[0mpos\u001b[0m \u001b[0;34m=\u001b[0m \u001b[0mgd\u001b[0m\u001b[0;34m.\u001b[0m\u001b[0msfdp_layout\u001b[0m\u001b[0;34m(\u001b[0m\u001b[0mg\u001b[0m\u001b[0;34m)\u001b[0m\u001b[0;34m\u001b[0m\u001b[0m\n\u001b[0;32m---> 11\u001b[0;31m     \u001b[0mgd\u001b[0m\u001b[0;34m.\u001b[0m\u001b[0mgraph_draw\u001b[0m\u001b[0;34m(\u001b[0m\u001b[0mg\u001b[0m\u001b[0;34m,\u001b[0m \u001b[0mpos\u001b[0m\u001b[0;34m,\u001b[0m \u001b[0moutput_size\u001b[0m \u001b[0;34m=\u001b[0m \u001b[0;34m(\u001b[0m\u001b[0;36m1000\u001b[0m\u001b[0;34m,\u001b[0m\u001b[0;36m1000\u001b[0m\u001b[0;34m)\u001b[0m\u001b[0;34m,\u001b[0m \u001b[0mvertex_color\u001b[0m \u001b[0;34m=\u001b[0m \u001b[0;34m[\u001b[0m\u001b[0;36m1\u001b[0m\u001b[0;34m,\u001b[0m\u001b[0;36m1\u001b[0m\u001b[0;34m,\u001b[0m\u001b[0;36m1\u001b[0m\u001b[0;34m,\u001b[0m\u001b[0;36m0\u001b[0m\u001b[0;34m]\u001b[0m\u001b[0;34m)\u001b[0m\u001b[0;34m\u001b[0m\u001b[0m\n\u001b[0m\u001b[1;32m     12\u001b[0m \u001b[0;34m\u001b[0m\u001b[0m\n\u001b[1;32m     13\u001b[0m \u001b[0mdraw_network\u001b[0m\u001b[0;34m(\u001b[0m\u001b[0madj_swn\u001b[0m\u001b[0;34m)\u001b[0m\u001b[0;34m\u001b[0m\u001b[0m\n",
      "\u001b[0;31mAttributeError\u001b[0m: module 'graph_tool.draw' has no attribute 'graph_draw'"
     ]
    }
   ],
   "source": [
    "def draw_network(adj_L):\n",
    "    g = Graph(directed = False)\n",
    "    n = len(adj_L)\n",
    "    vlist = g.add_vertex(n)\n",
    "    for i in range(n):\n",
    "        for j in adj_L[i]:\n",
    "            if i > j:\n",
    "                continue\n",
    "            e = g.add_edge(g.vertex(i), g.vertex(j))\n",
    "    pos = gd.sfdp_layout(g)\n",
    "    gd.graph_draw(g, pos, output_size = (1000,1000), vertex_color = [1,1,1,0])\n",
    "    \n",
    "draw_network(adj_swn)"
   ]
  },
  {
   "cell_type": "code",
   "execution_count": null,
   "metadata": {},
   "outputs": [],
   "source": [
    "#blahblahblah"
   ]
  }
 ],
 "metadata": {
  "kernelspec": {
   "display_name": "Python 3",
   "language": "python",
   "name": "python3"
  },
  "language_info": {
   "codemirror_mode": {
    "name": "ipython",
    "version": 3
   },
   "file_extension": ".py",
   "mimetype": "text/x-python",
   "name": "python",
   "nbconvert_exporter": "python",
   "pygments_lexer": "ipython3",
   "version": "3.5.2"
  }
 },
 "nbformat": 4,
 "nbformat_minor": 2
}
