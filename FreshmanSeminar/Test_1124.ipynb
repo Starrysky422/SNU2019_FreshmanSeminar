{
 "cells": [
  {
   "cell_type": "code",
   "execution_count": 1,
   "metadata": {},
   "outputs": [
    {
     "name": "stdout",
     "output_type": "stream",
     "text": [
      "/home/starrysky/Documents/SNU2019_FreshmanSeminar/FreshmanSeminar\n",
      "/home/starrysky/Documents/SNU2019_FreshmanSeminar/FreshmanSeminar\n"
     ]
    }
   ],
   "source": [
    "#Importing Packages\n",
    "#Basic\n",
    "import numpy as np\n",
    "import os\n",
    "import sys\n",
    "import matplotlib\n",
    "import matplotlib.pyplot as plt\n",
    "from collections import deque\n",
    "import random\n",
    "\n",
    "\n",
    "#Networks\n",
    "import networkx as ntx\n",
    "\n",
    "#Visualizing Tool\n",
    "from graph_tool.all import *\n",
    "import graph_tool.draw as gd\n",
    "import graph_tool.centrality as gc\n",
    "import cairo\n",
    "\n",
    "#Make Log File\n",
    "print(os.getcwd())\n",
    "#os.chdir('')\n",
    "log_name = './log.txt'\n",
    "print(os.getcwd())"
   ]
  },
  {
   "cell_type": "code",
   "execution_count": 2,
   "metadata": {},
   "outputs": [
    {
     "name": "stdout",
     "output_type": "stream",
     "text": [
      "./graphs/ESpS/FB_ESpS_wtype_plus_eps_3.0e-02_cut_5.png\n",
      "./graphs/ESpT/GR_ESpT.png\n",
      "./graphs/ESpT/BAN_ESpT_BA_4.png\n"
     ]
    }
   ],
   "source": [
    "#Generate output png file name\n",
    "def png_namegen(dtype='FB', gtype='ESpS', BAedge=None, wtype=None, eps=None, cutoff = None):\n",
    "    name = './graphs/'+gtype+'/'+('_'.join([dtype,gtype]))\n",
    "    if BAedge: name = '_'.join([name,'BA',str(BAedge)])\n",
    "    if wtype: name = '_'.join([name,'wtype',wtype])\n",
    "    if eps: name = '_'.join([name,'eps','{:.1e}'.format(eps)])\n",
    "    if cutoff: name = '_'.join([name,'cut',str(cutoff)])\n",
    "    name += '.png'\n",
    "    return name\n",
    "\n",
    "print(png_namegen(wtype='plus',eps=0.03, cutoff=5))#dhk\n",
    "print(png_namegen(dtype = 'GR', gtype='ESpT'))\n",
    "print(png_namegen(dtype = 'BAN', gtype='ESpT', BAedge=4))"
   ]
  },
  {
   "cell_type": "code",
   "execution_count": 3,
   "metadata": {},
   "outputs": [
    {
     "name": "stdout",
     "output_type": "stream",
     "text": [
      "./histograms/degree/FB_degree.png\n",
      "./histograms/degree/FB_degree_st_200.png\n",
      "./histograms/weight/GR_weight_wtype_plus_breaks_100_range_2.5e-02.png\n"
     ]
    }
   ],
   "source": [
    "#Generate output histogram file name\n",
    "def hist_namegen(dtype='FB', htype='degree', BAedge=None, st=None, wtype=None, breaks=None, rang=None):\n",
    "    name = './histograms/'+htype+'/'+('_'.join([dtype,htype]))\n",
    "    if BAedge: name = '_'.join([name,'BA',str(BAedge)])\n",
    "    if st: name = '_'.join([name,'st',str(st)])\n",
    "    if wtype: name = '_'.join([name,'wtype',wtype])\n",
    "    if breaks: name = '_'.join([name,'breaks',str(breaks)])\n",
    "    if rang: name = '_'.join([name,'range','{:.1e}'.format(rang)])\n",
    "    name += '.png'\n",
    "    return name\n",
    "\n",
    "print(hist_namegen(dtype='FB',htype='degree'))\n",
    "print(hist_namegen(dtype='FB',htype='degree',st=200))\n",
    "print(hist_namegen(dtype='GR',htype='weight',wtype='plus',breaks=100, rang=0.025))"
   ]
  },
  {
   "cell_type": "code",
   "execution_count": 17,
   "metadata": {},
   "outputs": [
    {
     "name": "stdout",
     "output_type": "stream",
     "text": [
      "./AdjList/ESpS/FB_ESpS_wtype_plus_eps_3.0e-02_cut_5.txt\n",
      "./AdjList/ESpT/GR_ESpT.txt\n",
      "./AdjList/ESpT/BAN_ESpT_BA_4.txt\n"
     ]
    }
   ],
   "source": [
    "def adjlist_namegen(dtype='FB', gtype='ESpS', BAedge=None, wtype=None, eps=None, cutoff = None):\n",
    "    name = './AdjList/'+gtype+'/'+('_'.join([dtype,gtype]))\n",
    "    if BAedge: name = '_'.join([name,'BA',str(BAedge)])\n",
    "    if wtype: name = '_'.join([name,'wtype',wtype])\n",
    "    if eps: name = '_'.join([name,'eps','{:.1e}'.format(eps)])\n",
    "    if cutoff: name = '_'.join([name,'cut',str(cutoff)])\n",
    "    name += '.txt'\n",
    "    return name\n",
    "\n",
    "print(adjlist_namegen(wtype='plus',eps=0.03, cutoff=5))#dhk\n",
    "print(adjlist_namegen(dtype = 'GR', gtype='ESpT'))\n",
    "print(adjlist_namegen(dtype = 'BAN', gtype='ESpT', BAedge=4))"
   ]
  },
  {
   "cell_type": "code",
   "execution_count": 4,
   "metadata": {},
   "outputs": [
    {
     "name": "stdout",
     "output_type": "stream",
     "text": [
      "[[   0    1]\n",
      " [   0    2]\n",
      " [   0    3]\n",
      " ...\n",
      " [4027 4032]\n",
      " [4027 4038]\n",
      " [4031 4038]]\n",
      "88234\n"
     ]
    }
   ],
   "source": [
    "#Get FB Dataset\n",
    "FB = np.loadtxt(fname = './facebook_combined.txt', delimiter=' ', comments='#', dtype=int)\n",
    "print(FB)\n",
    "print(len(FB))"
   ]
  },
  {
   "cell_type": "code",
   "execution_count": 5,
   "metadata": {},
   "outputs": [
    {
     "name": "stdout",
     "output_type": "stream",
     "text": [
      "28980\n"
     ]
    }
   ],
   "source": [
    "#Get Rel Dataset\n",
    "GR = np.loadtxt(fname = './CA-GrQc.txt', delimiter='\\t', comments='#', dtype=int)\n",
    "print(len(GR))"
   ]
  },
  {
   "cell_type": "code",
   "execution_count": 7,
   "metadata": {},
   "outputs": [],
   "source": [
    "#Draw Degree Histogram\n",
    "def getdeg(G,breaks=None,st=0, output=None):\n",
    "    deg = {}\n",
    "    for p in G:\n",
    "        #print(p[0], p[1])\n",
    "        if deg.get(p[0]) is None:\n",
    "            deg[p[0]] = 1\n",
    "        if deg.get(p[1]) is None:\n",
    "            deg[p[1]] = 1\n",
    "        deg[p[0]] = deg[p[0]] + 1\n",
    "        deg[p[1]] = deg[p[1]] + 1\n",
    "#print(deg)\n",
    "    n = max(deg.values())\n",
    "    print(n)\n",
    "    H = [0] * (n + 1)\n",
    "    for v in deg.values():\n",
    "        H[v] = H[v] + 1\n",
    "    print(H[0])\n",
    "    X = np.arange(st,n+1)\n",
    "    if not breaks:\n",
    "        breaks = len(X)\n",
    "    _ = plt.hist(X, bins = breaks, weights=H[st:n+1])\n",
    "    if output: plt.savefig(fname=output)"
   ]
  },
  {
   "cell_type": "code",
   "execution_count": 8,
   "metadata": {},
   "outputs": [
    {
     "name": "stdout",
     "output_type": "stream",
     "text": [
      "163\n",
      "0\n"
     ]
    },
    {
     "data": {
      "image/png": "[encoded data removed]",
      "text/plain": [
       "<Figure size 432x288 with 1 Axes>"
      ]
     },
     "metadata": {
      "needs_background": "light"
     },
     "output_type": "display_data"
    }
   ],
   "source": [
    "getdeg(GR, output=hist_namegen(dtype='GR',htype='degree'))\n"
   ]
  },
  {
   "cell_type": "code",
   "execution_count": 9,
   "metadata": {},
   "outputs": [
    {
     "name": "stdout",
     "output_type": "stream",
     "text": [
      "163\n",
      "0\n"
     ]
    },
    {
     "data": {
      "image/png": "[encoded data removed]",
      "text/plain": [
       "<Figure size 432x288 with 1 Axes>"
      ]
     },
     "metadata": {
      "needs_background": "light"
     },
     "output_type": "display_data"
    }
   ],
   "source": [
    "getdeg(GR, st=100, output=hist_namegen(dtype='GR',htype='degree', st=100))"
   ]
  },
  {
   "cell_type": "code",
   "execution_count": 10,
   "metadata": {},
   "outputs": [
    {
     "name": "stdout",
     "output_type": "stream",
     "text": [
      "1046\n",
      "0\n"
     ]
    },
    {
     "data": {
      "image/png": "[encoded data removed]",
      "text/plain": [
       "<Figure size 432x288 with 1 Axes>"
      ]
     },
     "metadata": {
      "needs_background": "light"
     },
     "output_type": "display_data"
    }
   ],
   "source": [
    "getdeg(FB, output=hist_namegen(dtype='FB',htype='degree'))"
   ]
  },
  {
   "cell_type": "code",
   "execution_count": 11,
   "metadata": {},
   "outputs": [
    {
     "name": "stdout",
     "output_type": "stream",
     "text": [
      "1046\n",
      "0\n"
     ]
    },
    {
     "data": {
      "image/png": "[encoded data removed]",
      "text/plain": [
       "<Figure size 432x288 with 1 Axes>"
      ]
     },
     "metadata": {
      "needs_background": "light"
     },
     "output_type": "display_data"
    }
   ],
   "source": [
    "getdeg(FB, breaks=15, st = 200, output=hist_namegen(dtype='FB',htype='degree', st=200, breaks=15))"
   ]
  },
  {
   "cell_type": "code",
   "execution_count": 12,
   "metadata": {},
   "outputs": [
    {
     "name": "stdout",
     "output_type": "stream",
     "text": [
      "[8193, 24578, 8195, 16389, 24582, 24583, 8200, 16393, 8198, 24587, 24589, 8206, 13, 8208, 24592, 24594, 8211, 24595, 24597, 24593, 8215, 24, 8216, 26, 8219, 27, 29, 16414, 8222, 8224, 24601, 25, 28, 16415, 24614, 8231, 24616, 24617, 24615, 24620, 45, 46, 16429, 16433, 62, 8254, 24640, 65, 8255, 8261]\n",
      "[0, 1, 2, 3, 4, 5, 6, 7, 8, 9, 10, 11, 12, 13, 14, 15, 16, 17, 18, 19, 20, 21, 22, 23, 24, 25, 26, 27, 28, 29, 30, 31, 32, 33, 34, 35, 36, 37, 38, 39, 40, 41, 42, 43, 44, 45, 46, 47, 48, 49]\n"
     ]
    }
   ],
   "source": [
    "#Dehash and Get Adjacency List\n",
    "def dehash_and_listize(G, undir = True):\n",
    "    hasher = []\n",
    "    for e in G:\n",
    "        hasher.append(e[0])\n",
    "        hasher.append(e[1])\n",
    "    hasher = list(set(hasher))\n",
    "    print(hasher[:50])\n",
    "    dehasher = {}\n",
    "    for i, h in enumerate(hasher):\n",
    "        dehasher[h] = i \n",
    "    \n",
    "    n = len(hasher)\n",
    "    adj_G = [[] for _ in range(n)]\n",
    "    for e in G:\n",
    "        if e[0] == e[1]: continue\n",
    "        adj_G[dehasher[e[0]]].append(dehasher[e[1]])\n",
    "        if not undir:\n",
    "            adj_G[dehasher[e[1]]].append(dehasher[e[0]])\n",
    "    #print(type(G))\n",
    "    return hasher, adj_G\n",
    "\n",
    "hasher_GR,adjlist_GR = dehash_and_listize(GR, undir = True)\n",
    "hasher_FB,adjlist_FB = dehash_and_listize(FB, undir = False)\n",
    "#print(hasher_A[:-20:-1])\n",
    "#print(max(dehashed_A.reshape(-1)))\n",
    "#for i in range(20):\n",
    "#    print(hasher_A[i],end = ' : ')\n",
    "#    for j in adjlist_A[i]:\n",
    "#        print(hasher_A[j], end=' ')\n",
    "#    print()\n"
   ]
  },
  {
   "cell_type": "code",
   "execution_count": 44,
   "metadata": {},
   "outputs": [],
   "source": [
    "def export(adj_L, filename):\n",
    "    n = len(adj_L)\n",
    "    f = open(filename, 'w')\n",
    "    for i in range(n):\n",
    "        for j in adj_L[i]:\n",
    "            f.write(str(i) + ' ' + str(j) + '\\n')\n",
    "    f.close()\n",
    "\n",
    "#export(adjlist_GR, 'GR_dehashed.txt')"
   ]
  },
  {
   "cell_type": "code",
   "execution_count": 13,
   "metadata": {},
   "outputs": [],
   "source": [
    "#Calculate Global Efficiency w/ AdjList\n",
    "def calc_efficiencies(adj_L):\n",
    "    n = len(adj_L)\n",
    "    dis = [[n + 1] * n for _ in range(n)]\n",
    "    for source in range(n):\n",
    "        if source % 500 == 0:\n",
    "            print(source)\n",
    "        D = dis[source]\n",
    "        D[source] = 0\n",
    "        Q = deque([])\n",
    "        Q.append(source)\n",
    "        while len(Q) > 0:\n",
    "            f = Q.popleft()\n",
    "            for u in adj_L[f]:\n",
    "                if D[u] > D[f] + 1:\n",
    "                    D[u] = D[f] + 1\n",
    "                    Q.append(u)\n",
    "    \n",
    "    glob_eff = 0\n",
    "    for i in range(n):\n",
    "        for j in range(i+1,n):\n",
    "            if dis[i][j] == n + 1:\n",
    "                continue\n",
    "            glob_eff += 1 / dis[i][j]\n",
    "            \n",
    "    glob_eff /= n * (n-1) // 2\n",
    "    print('global efficiency : ', glob_eff)\n",
    "    \n",
    "    return glob_eff, dis"
   ]
  },
  {
   "cell_type": "code",
   "execution_count": 14,
   "metadata": {},
   "outputs": [
    {
     "name": "stdout",
     "output_type": "stream",
     "text": [
      "0\n",
      "500\n",
      "1000\n",
      "1500\n",
      "2000\n",
      "2500\n",
      "3000\n",
      "3500\n",
      "4000\n",
      "4500\n",
      "5000\n",
      "global efficiency :  0.11283474592043267\n"
     ]
    }
   ],
   "source": [
    "GR_ge, GR_dis = calc_efficiencies(adjlist_GR) "
   ]
  },
  {
   "cell_type": "code",
   "execution_count": 11,
   "metadata": {},
   "outputs": [
    {
     "name": "stdout",
     "output_type": "stream",
     "text": [
      "0\n",
      "500\n",
      "1000\n",
      "1500\n",
      "2000\n",
      "2500\n",
      "3000\n",
      "3500\n",
      "4000\n",
      "global efficiency :  0.3065781479571354\n"
     ]
    }
   ],
   "source": [
    "FB_ge,FB_dis = calc_efficiencies(adjlist_FB)"
   ]
  },
  {
   "cell_type": "code",
   "execution_count": 18,
   "metadata": {},
   "outputs": [
    {
     "name": "stdout",
     "output_type": "stream",
     "text": [
      "[[1, 2, 3, 4, 5, 8], [0, 2, 6, 8], [0, 1, 3, 7], [0, 2, 6, 9], [0, 5, 7], [0, 4, 6], [1, 3, 5, 7], [2, 4, 6], [0, 1, 9], [3, 8]]\n"
     ]
    }
   ],
   "source": [
    "#Generate Erdos-Renyl Random Graph w/ |V|=n, prob=p\n",
    "def erdos_renyi(n = 5000, p = 0.5):\n",
    "    adj_L = [[] for _ in range(n)]\n",
    "    for i in range(n):\n",
    "        for j in range(i+1, n):\n",
    "            if random.random() < p:\n",
    "                adj_L[i].append(j)\n",
    "                adj_L[j].append(i)\n",
    "    return adj_L\n",
    "\n",
    "test_adj = erdos_renyi(10,0.3)\n",
    "print(test_adj)"
   ]
  },
  {
   "cell_type": "code",
   "execution_count": 41,
   "metadata": {},
   "outputs": [],
   "source": [
    "#Erdos-Renyi graph with p = 0.01\n",
    "rndgph_erdos = erdos_renyi(5000,0.01)\n",
    "#_,__ = calc_efficiencies(rndgph_erdos)"
   ]
  },
  {
   "cell_type": "code",
   "execution_count": 42,
   "metadata": {},
   "outputs": [],
   "source": [
    "#p = 0.005\n",
    "rndgphs_erdos_2 = erdos_renyi(5000,0.005)\n",
    "#_,__ = calc_efficiencies(rndgphs_erdos_2)"
   ]
  },
  {
   "cell_type": "code",
   "execution_count": 19,
   "metadata": {},
   "outputs": [
    {
     "name": "stdout",
     "output_type": "stream",
     "text": [
      "[[2, 3, 17, 18, 19, 20, 21, 22], [3, 4, 20, 21], [0, 3, 4, 19, 20, 22], [0, 1, 2, 4, 5, 6, 15, 11, 20, 21, 22], [1, 2, 3, 5, 7, 20, 22], [3, 4, 6, 7, 8, 11, 20, 22], [3, 5, 7, 8, 9, 20, 21, 22], [4, 5, 6, 8, 9, 10, 20], [5, 6, 7, 9, 10, 20, 21, 22], [6, 7, 8, 11, 12, 20, 21], [7, 8, 12, 13, 20], [9, 14, 3, 5, 20, 21, 22], [9, 10, 14, 21], [10, 14, 15, 20, 21, 22], [11, 12, 13, 15, 16, 21, 22], [13, 14, 16, 17, 18, 3, 21, 22], [14, 15, 17, 18, 19, 20, 21, 22], [15, 16, 18, 19, 0, 20, 21, 22], [15, 16, 17, 19, 0, 20, 21, 22], [16, 17, 18, 0, 2, 21, 22], [16, 13, 10, 9, 17, 2, 7, 11, 4, 6, 18, 0, 1, 5, 8, 3, 21, 22], [3, 1, 14, 11, 15, 17, 16, 9, 13, 12, 18, 6, 0, 8, 20, 19, 22], [16, 20, 2, 3, 21, 11, 18, 15, 14, 4, 17, 19, 5, 13, 6, 8, 0]]\n"
     ]
    }
   ],
   "source": [
    "#Generate Modified Small-World Network w/ |V|=n+hubs, short edge:pick from 2k & prob=b, long edge = add, #hub = hubs, deg(hubs)=n*phub\n",
    "def small_world_network(n = 5000, k = 20, b = 0.5, add = 0, hubs = 0, phub = 0.1):    \n",
    "    # 2kb ~ mean deg, add : additional random edge \n",
    "    G = [[] for _ in range(n + hubs)]\n",
    "    for i in range(n):\n",
    "        for j in range(1,k+1):\n",
    "            if random.random() < b:\n",
    "                t = (i+j)%n\n",
    "                G[i].append(t)\n",
    "                G[t].append(i)\n",
    "    S = set()\n",
    "    while len(S) < add:\n",
    "        i = random.randint(0,n-1)\n",
    "        j = random.randint(i+k+1,i+n-k-1)\n",
    "        j %= n\n",
    "        if i > j:\n",
    "            i, j = j, i\n",
    "        S.add((i,j))\n",
    "    #print(S)\n",
    "    for elem in S:\n",
    "        G[elem[0]].append(elem[1])\n",
    "        G[elem[1]].append(elem[0])\n",
    "    \n",
    "    hubset = [i for i in range(n)]\n",
    "    for i in range(hubs):\n",
    "        random.shuffle(hubset)\n",
    "        for j in range(int(len(hubset) * phub)):\n",
    "            G[hubset[j]].append(n + i)\n",
    "            G[n + i].append(hubset[j])\n",
    "        hubset.append(n + i)\n",
    "    return G\n",
    "\n",
    "adj_swn = small_world_network(20, 3, 0.7,3, 3, 0.8)\n",
    "print(adj_swn)"
   ]
  },
  {
   "cell_type": "code",
   "execution_count": 18,
   "metadata": {},
   "outputs": [
    {
     "name": "stdout",
     "output_type": "stream",
     "text": [
      "0\n",
      "500\n",
      "1000\n",
      "1500\n",
      "2000\n",
      "2500\n",
      "3000\n",
      "3500\n",
      "4000\n",
      "4500\n",
      "global efficiency :  0.14505624859201063\n"
     ]
    }
   ],
   "source": [
    "adj_swn2 = small_world_network(n = 5000, k = 30, b = 0.25, add = 100)\n",
    "\n",
    "_, __ = calc_efficiencies(adj_swn2)"
   ]
  },
  {
   "cell_type": "code",
   "execution_count": 19,
   "metadata": {},
   "outputs": [
    {
     "name": "stdout",
     "output_type": "stream",
     "text": [
      "0\n",
      "500\n",
      "1000\n",
      "1500\n",
      "2000\n",
      "2500\n",
      "3000\n",
      "3500\n",
      "4000\n",
      "4500\n",
      "global efficiency :  0.051725884005002574\n"
     ]
    }
   ],
   "source": [
    "adj_swn3 = small_world_network(n = 5000, k = 30, b = 0.25, add = 0)\n",
    "_, __ = calc_efficiencies(adj_swn3)"
   ]
  },
  {
   "cell_type": "code",
   "execution_count": 20,
   "metadata": {},
   "outputs": [
    {
     "name": "stdout",
     "output_type": "stream",
     "text": [
      "0\n",
      "500\n",
      "1000\n",
      "1500\n",
      "2000\n",
      "2500\n",
      "3000\n",
      "3500\n",
      "4000\n",
      "4500\n",
      "global efficiency :  0.16494393993505355\n"
     ]
    }
   ],
   "source": [
    "adj_swn4 = small_world_network(n = 5000, k = 30, b = 0.25, add = 200)\n",
    "_, __ = calc_efficiencies(adj_swn4)"
   ]
  },
  {
   "cell_type": "code",
   "execution_count": 21,
   "metadata": {},
   "outputs": [],
   "source": [
    "adj_swn_with_add = small_world_network(n = 5000, k = 30, b = 0.5, add = 100)\n",
    "#_, __ = calc_efficiencies(adj_swn_with_add)"
   ]
  },
  {
   "cell_type": "code",
   "execution_count": 22,
   "metadata": {
    "scrolled": true
   },
   "outputs": [],
   "source": [
    "adj_swn_with_hub = small_world_network(n = 5000, k = 30, b = 0.5, \n",
    "                                       add = 100, hubs = 40, phub = 0.04)\n",
    "#_, __ = calc_efficiencies(adj_swn_with_hub)"
   ]
  },
  {
   "cell_type": "code",
   "execution_count": 23,
   "metadata": {},
   "outputs": [
    {
     "name": "stdout",
     "output_type": "stream",
     "text": [
      "[[3], [3, 4, 5], [9, 3, 4], [0, 1, 2, 4, 5, 6, 7], [1, 2, 3, 5, 6, 7, 8], [1, 3, 4, 6], [3, 4, 5, 7, 8, 9], [8, 3, 4, 6], [9, 4, 6, 7], [8, 2, 6]]\n"
     ]
    }
   ],
   "source": [
    "#Generate Scale-Free Network with Barabasi-Albert model w/ |V|=n, |E|=mn (new node: m edges)\n",
    "def barabasi_albert(n = 5000, m=4):\n",
    "    G = ntx.barabasi_albert_graph(n=n, m=m)\n",
    "    adj = ntx.to_dict_of_lists(G)\n",
    "    adj_L = [[] for _ in range(n)]\n",
    "    for i in range(n):\n",
    "        adj_L[i] = adj[i]\n",
    "    return adj_L\n",
    "\n",
    "test_adj = barabasi_albert(10,3)\n",
    "print(test_adj)\n",
    "\n"
   ]
  },
  {
   "cell_type": "code",
   "execution_count": 24,
   "metadata": {},
   "outputs": [],
   "source": [
    "adj_ban_1 = barabasi_albert(5000,1)\n",
    "adj_ban_2 = barabasi_albert(5000,2)\n",
    "adj_ban_3 = barabasi_albert(5000,3)\n",
    "adj_ban_4 = barabasi_albert(5000,4)\n",
    "adj_ban_5 = barabasi_albert(5000,5)\n",
    "adj_ban_6 = barabasi_albert(5000,6)\n",
    "adj_ban_7 = barabasi_albert(5000,7)\n",
    "adj_ban_8 = barabasi_albert(5000,8)\n",
    "adj_ban_9 = barabasi_albert(5000,9)\n",
    "adj_ban_10 = barabasi_albert(5000,10)\n",
    "#_, __ = calc_efficiencies(adj_ban_4)"
   ]
  },
  {
   "cell_type": "code",
   "execution_count": 11,
   "metadata": {},
   "outputs": [
    {
     "name": "stdout",
     "output_type": "stream",
     "text": [
      "n =  23\n",
      "0\n",
      "Local efficiency :  0.5428601875532821 \n",
      "Variance :  0.01518327129584185\n"
     ]
    }
   ],
   "source": [
    "#Calculate Local Efficiency w/ AdjList\n",
    "def local_efficiencies(adj_L, use_log = True):\n",
    "    n = len(adj_L)\n",
    "    print(\"n = \", n)\n",
    "    adj_M = [[False]*n for _ in range(n)]\n",
    "    for i in range(n):\n",
    "        for j in adj_L[i]:\n",
    "            adj_M[i][j] = True\n",
    "    tot_loc_eff = 0\n",
    "    var_loc_eff = 0\n",
    "    for source in range(n):\n",
    "        if source % 500 == 0:\n",
    "            print(source)\n",
    "        B = adj_L[source]\n",
    "        k = len(B)\n",
    "        if k == 0:\n",
    "            print(\"I'm a nerd!!!!!!\")\n",
    "            continue\n",
    "        dis = [[k + 1] * k for _ in range(k)]\n",
    "        for i in range(k):\n",
    "            dq = deque([i])\n",
    "            D = dis[i]\n",
    "            D[i] = 0\n",
    "            while len(dq) > 0:\n",
    "                f = dq.popleft()\n",
    "                for j in range(len(B)):\n",
    "                    if not adj_M[B[i]][B[j]] or D[j] <= D[i] + 1:\n",
    "                        continue\n",
    "                    D[j] = D[i] + 1\n",
    "                    dq.append(j)\n",
    "        loc_eff = 0\n",
    "        for i in range(k):\n",
    "            for j in range(i+1, k):\n",
    "                if dis[i][j] == k + 1:\n",
    "                    continue\n",
    "                loc_eff += 1 / dis[i][j]\n",
    "        if k > 1:\n",
    "            loc_eff /= k * (k-1) / 2\n",
    "        tot_loc_eff += loc_eff\n",
    "        var_loc_eff += loc_eff ** 2\n",
    "    tot_loc_eff /= n\n",
    "    var_loc_eff = var_loc_eff / n - tot_loc_eff ** 2\n",
    "    print(\"Local efficiency : \", tot_loc_eff, \"\\nVariance : \", var_loc_eff)\n",
    "    if use_log :\n",
    "        f = open(log_name, 'at')\n",
    "        f.write(\"Local efficiency : {0:.3f}\\nVariance : {1:.3f}\\n\".\n",
    "                format(tot_loc_eff, var_loc_eff))\n",
    "        f.close()\n",
    "    \n",
    "    return tot_loc_eff, var_loc_eff\n",
    "\n",
    "_, __ = local_efficiencies(adj_swn)"
   ]
  },
  {
   "cell_type": "code",
   "execution_count": 24,
   "metadata": {},
   "outputs": [
    {
     "name": "stdout",
     "output_type": "stream",
     "text": [
      "n =  4039\n",
      "0\n",
      "500\n",
      "1000\n",
      "1500\n",
      "2000\n",
      "2500\n",
      "3000\n",
      "3500\n",
      "4000\n",
      "Local efficiency :  0.6055467186200871 \n",
      "Variance :  0.045982642409736096\n"
     ]
    },
    {
     "data": {
      "text/plain": [
       "(0.6055467186200871, 0.045982642409736096)"
      ]
     },
     "execution_count": 24,
     "metadata": {},
     "output_type": "execute_result"
    }
   ],
   "source": [
    "local_efficiencies(adjlist_FB)"
   ]
  },
  {
   "cell_type": "code",
   "execution_count": 228,
   "metadata": {},
   "outputs": [
    {
     "name": "stdout",
     "output_type": "stream",
     "text": [
      "n =  5000\n",
      "0\n",
      "500\n",
      "1000\n",
      "1500\n",
      "2000\n",
      "2500\n",
      "3000\n",
      "3500\n",
      "4000\n",
      "4500\n",
      "Local efficiency :  0.3671347393568415 \n",
      "Variance :  0.0008877088058748261\n"
     ]
    },
    {
     "data": {
      "text/plain": [
       "(0.3671347393568415, 0.0008877088058748261)"
      ]
     },
     "execution_count": 228,
     "metadata": {},
     "output_type": "execute_result"
    }
   ],
   "source": [
    "local_efficiencies(adj_swn_with_add)"
   ]
  },
  {
   "cell_type": "code",
   "execution_count": 25,
   "metadata": {},
   "outputs": [
    {
     "name": "stdout",
     "output_type": "stream",
     "text": [
      "n =  5040\n",
      "0\n",
      "500\n",
      "1000\n",
      "1500\n",
      "2000\n",
      "2500\n",
      "3000\n",
      "3500\n",
      "4000\n",
      "4500\n",
      "5000\n",
      "Local efficiency :  0.3313984752913302 \n",
      "Variance :  0.0020918851844959063\n"
     ]
    },
    {
     "data": {
      "text/plain": [
       "(0.3313984752913302, 0.0020918851844959063)"
      ]
     },
     "execution_count": 25,
     "metadata": {},
     "output_type": "execute_result"
    }
   ],
   "source": [
    "local_efficiencies(adj_swn_with_hub)"
   ]
  },
  {
   "cell_type": "code",
   "execution_count": 172,
   "metadata": {},
   "outputs": [
    {
     "name": "stdout",
     "output_type": "stream",
     "text": [
      "n =  5242\n",
      "0\n",
      "500\n",
      "1000\n",
      "1500\n",
      "2000\n",
      "2500\n",
      "I'm a nerd!!!!!!\n",
      "3000\n",
      "3500\n",
      "4000\n",
      "4500\n",
      "5000\n",
      "Local efficiency :  0.5296358110521359 \n",
      "Variance :  0.1837682859163694\n"
     ]
    },
    {
     "data": {
      "text/plain": [
       "(0.5296358110521359, 0.1837682859163694)"
      ]
     },
     "execution_count": 172,
     "metadata": {},
     "output_type": "execute_result"
    }
   ],
   "source": [
    "local_efficiencies(adjlist_GR)"
   ]
  },
  {
   "cell_type": "code",
   "execution_count": 92,
   "metadata": {},
   "outputs": [
    {
     "name": "stdout",
     "output_type": "stream",
     "text": [
      "n =  5000\n",
      "0\n",
      "500\n",
      "1000\n",
      "1500\n",
      "2000\n",
      "2500\n",
      "3000\n",
      "3500\n",
      "4000\n",
      "4500\n",
      "Local efficiency :  0.010592755909383968 \n",
      "Variance :  0.0013388829086156426\n"
     ]
    },
    {
     "data": {
      "text/plain": [
       "(0.010592755909383968, 0.0013388829086156426)"
      ]
     },
     "execution_count": 92,
     "metadata": {},
     "output_type": "execute_result"
    }
   ],
   "source": [
    "local_efficiencies(adj_ban_4)"
   ]
  },
  {
   "cell_type": "code",
   "execution_count": 68,
   "metadata": {},
   "outputs": [],
   "source": [
    "import inspect\n",
    "from graph_tool.draw.graphviz_draw import *\n",
    "from graph_tool.generation import *\n",
    "#inspect.getmembers(gd)\n",
    "#inspect.getmembers(graph_tool)"
   ]
  },
  {
   "cell_type": "code",
   "execution_count": 27,
   "metadata": {
    "scrolled": false
   },
   "outputs": [
    {
     "data": {
      "image/png": "[encoded data removed]",
      "text/plain": [
       "<IPython.core.display.Image object>"
      ]
     },
     "metadata": {},
     "output_type": "display_data"
    },
    {
     "name": "stdout",
     "output_type": "stream",
     "text": [
      "U R an idiot! hahaha!\n"
     ]
    }
   ],
   "source": [
    "#Visualize Graph w/ AdjList\n",
    "def draw_network(adj_L, pos = None, output = None):\n",
    "    g = Graph(directed = False)\n",
    "    n = len(adj_L)\n",
    "    vlist = g.add_vertex(n)\n",
    "    for i in range(n):\n",
    "        for j in adj_L[i]:\n",
    "            if i > j:\n",
    "                continue\n",
    "            e = g.add_edge(g.vertex(i), g.vertex(j))\n",
    "    if not pos:\n",
    "        pos = gd.sfdp_layout(g)\n",
    "    graph_draw(g,pos=pos,output=output)\n",
    "    #ret = g.new_vertex_property(\"vector<double>\")\n",
    "    #return pos\n",
    "draw_network(adj_swn)#,output=\"./graphs/idiot.png\")\n",
    "#draw_network(adj_swn,pos = pos_tmp, output=\"./graphs/moron.png\")\n",
    "print('U R an idiot! hahaha!')"
   ]
  },
  {
   "cell_type": "code",
   "execution_count": 188,
   "metadata": {
    "scrolled": false
   },
   "outputs": [],
   "source": [
    "draw_network(adjlist_GR, output=png_namegen(dtype='GR',gtype='Raw'))"
   ]
  },
  {
   "cell_type": "code",
   "execution_count": 189,
   "metadata": {},
   "outputs": [],
   "source": [
    "draw_network(adjlist_FB, output=png_namegen(dtype='FB',gtype='Raw'))"
   ]
  },
  {
   "cell_type": "code",
   "execution_count": 190,
   "metadata": {
    "scrolled": false
   },
   "outputs": [],
   "source": [
    "draw_network(adj_swn_with_hub, output=png_namegen(dtype='SWNwH',gtype='Raw'))"
   ]
  },
  {
   "cell_type": "code",
   "execution_count": 191,
   "metadata": {},
   "outputs": [],
   "source": [
    "draw_network(adj_swn_with_add, output=png_namegen(dtype='SWNwA',gtype='Raw'))"
   ]
  },
  {
   "cell_type": "code",
   "execution_count": 114,
   "metadata": {},
   "outputs": [],
   "source": [
    "draw_network(adj_ban_4, output=png_namegen(dtype='BAN',gtype='Raw', BAedge=4))"
   ]
  },
  {
   "cell_type": "code",
   "execution_count": 25,
   "metadata": {},
   "outputs": [],
   "source": [
    "#UnionFind  ///  Trim Network w.r.t. size of Conn.Comp. (Only Strictly Greater) w/ AdjList & cutoff\n",
    "def uf_parent(x, par):\n",
    "    if par[x] == x:\n",
    "        return x\n",
    "    else:\n",
    "        par[x] = uf_parent(par[x], par)\n",
    "        return par[x]\n",
    "\n",
    "def uf_merge(x, y, par, sz):\n",
    "    x = uf_parent(x, par)\n",
    "    y = uf_parent(y, par)\n",
    "    if x != y:\n",
    "        par[y] = x\n",
    "        sz[x] += sz[y]\n",
    "        return True\n",
    "    return False\n",
    "\n",
    "def trim_network(adj_L, cutoff = 20):\n",
    "    sys.setrecursionlimit(10**6)\n",
    "    n = len(adj_L)\n",
    "    par = [i for i in range(n)]\n",
    "    sz = [1] * n\n",
    "    for i in range(n):\n",
    "        for j in adj_L[i]:\n",
    "            uf_merge(i, j, par, sz)\n",
    "    \n",
    "    v_tr = []\n",
    "    for i in range(n):\n",
    "        if sz[uf_parent(i,par)] > cutoff:\n",
    "            v_tr.append(i)\n",
    "    \n",
    "    hasher = [-1] * n\n",
    "    for i, v in enumerate(v_tr):\n",
    "        hasher[v] = i\n",
    "    \n",
    "    ret_L = []\n",
    "    for v in v_tr:\n",
    "        x = []\n",
    "        for u in adj_L[v]:\n",
    "            x.append(hasher[u])\n",
    "        ret_L.append(x[:])\n",
    "    \n",
    "    return ret_L"
   ]
  },
  {
   "cell_type": "code",
   "execution_count": 28,
   "metadata": {},
   "outputs": [],
   "source": [
    "adjlist_GR_tr = trim_network(adjlist_GR)\n",
    "#draw_network(adjlist_GR_tr, output=png_namegen(dtype='GR',gtype='Trim',cutoff=20))"
   ]
  },
  {
   "cell_type": "code",
   "execution_count": 29,
   "metadata": {},
   "outputs": [],
   "source": [
    "adjlist_FB_tr = trim_network(adjlist_FB)\n",
    "#draw_network(adjlist_FB_tr, output=png_namegen(dtype='FB',gtype='Trim',cutoff=20))"
   ]
  },
  {
   "cell_type": "code",
   "execution_count": 30,
   "metadata": {},
   "outputs": [],
   "source": [
    "#Generate Minimal W Spanning Tree w.r.t. Large Deg -> Low Weight.   w/ AdjList & weight_type = 'plus'/'max'\n",
    "#Generate Spanning Graph w.r.t. Trim Edges with Small Deg.   w/ AdjList & cutoff & weight_type = 'plus'/'max'\n",
    "def elitism_spanning_tree(adj_L, weight_type='plus'):\n",
    "    n = len(adj_L)\n",
    "    deg = [len(adj_L[i]) for i in range(n)]\n",
    "    adj_sp = [[] for _ in range(n)]\n",
    "    par = [i for i in range(n)]\n",
    "    sz = [1] * n\n",
    "    \n",
    "    weighted_edges = []\n",
    "    for i in range(n):\n",
    "        for j in adj_L[i]:\n",
    "            if i < j: continue\n",
    "            weight = 1/(deg[i] + deg[j]) if weight_type == 'plus' else 1/max(deg[i],deg[j])\n",
    "            weighted_edges.append((weight, i, j))\n",
    "    \n",
    "    weighted_edges.sort(key = lambda t : t[0])\n",
    "    print('edges : ', len(weighted_edges))\n",
    "    for w in weighted_edges:\n",
    "        if uf_merge(w[1], w[2], par, sz):\n",
    "            #print('connecting ',w[1],w[2])\n",
    "            adj_sp[w[1]].append(w[2])\n",
    "            adj_sp[w[2]].append(w[1])\n",
    "    return adj_sp\n",
    "\n",
    "def elitism_spanning_subgraph(adj_L, cutoff = 0.1, weight_type='plus'):\n",
    "    n = len(adj_L)\n",
    "    deg = [len(adj_L[i]) for i in range(n)]\n",
    "    adj_sp = [[] for _ in range(n)]\n",
    "    \n",
    "    weighted_edges = []\n",
    "    for i in range(n):\n",
    "        for j in adj_L[i]:\n",
    "            if i < j: continue\n",
    "            weight = 1/(deg[i] + deg[j]) if weight_type == 'plus' else 1/max(deg[i],deg[j])\n",
    "            weighted_edges.append((weight, i, j))\n",
    "    \n",
    "    weighted_edges.sort(key = lambda t : t[0])\n",
    "    print('edges : ', len(weighted_edges))\n",
    "    for w in weighted_edges:\n",
    "        if w[0] > cutoff:\n",
    "            break\n",
    "        adj_sp[w[1]].append(w[2])\n",
    "        adj_sp[w[2]].append(w[1])\n",
    "    return adj_sp"
   ]
  },
  {
   "cell_type": "code",
   "execution_count": 33,
   "metadata": {},
   "outputs": [
    {
     "name": "stdout",
     "output_type": "stream",
     "text": [
      "edges :  13422\n"
     ]
    }
   ],
   "source": [
    "adjlist_GR_sp = elitism_spanning_tree(adjlist_GR_tr)\n",
    "#draw_network(adjlist_GR_sp, output=png_namegen(dtype='GR',gtype='ESpT', wtype = 'plus'))"
   ]
  },
  {
   "cell_type": "code",
   "execution_count": 34,
   "metadata": {},
   "outputs": [
    {
     "name": "stdout",
     "output_type": "stream",
     "text": [
      "edges :  13422\n"
     ]
    }
   ],
   "source": [
    "#Trim Edges with Small Deg -> Trim Vertices with small Conn.Comp. size\n",
    "adjlist_GR_spg = trim_network(elitism_spanning_subgraph(adjlist_GR_tr, cutoff = 0.02))\n",
    "#draw_network(adjlist_GR_spg)"
   ]
  },
  {
   "cell_type": "code",
   "execution_count": 35,
   "metadata": {},
   "outputs": [
    {
     "name": "stdout",
     "output_type": "stream",
     "text": [
      "edges :  88234\n"
     ]
    }
   ],
   "source": [
    "adjlist_FB_sp = elitism_spanning_tree(adjlist_FB_tr)\n",
    "#draw_network(adjlist_FB_sp, output=png_namegen(dtype='FB',gtype='ESpT', wtype='plus'))"
   ]
  },
  {
   "cell_type": "code",
   "execution_count": 36,
   "metadata": {},
   "outputs": [
    {
     "name": "stdout",
     "output_type": "stream",
     "text": [
      "edges :  88234\n"
     ]
    }
   ],
   "source": [
    "adjlist_FB_spg = trim_network(elitism_spanning_subgraph(adjlist_FB_tr, cutoff = 0.02))\n",
    "#draw_network(adjlist_FB_spg)"
   ]
  },
  {
   "cell_type": "code",
   "execution_count": 37,
   "metadata": {},
   "outputs": [
    {
     "name": "stdout",
     "output_type": "stream",
     "text": [
      "edges :  83171\n"
     ]
    }
   ],
   "source": [
    "adjlist_SWNwH_sp = elitism_spanning_tree(adj_swn_with_hub)\n",
    "#draw_network(adjlist_SWNwH_sp, output=png_namegen(dtype='SWNwH',gtype='ESpT', wtype='plus'))"
   ]
  },
  {
   "cell_type": "code",
   "execution_count": 38,
   "metadata": {},
   "outputs": [
    {
     "name": "stdout",
     "output_type": "stream",
     "text": [
      "edges :  19984\n"
     ]
    }
   ],
   "source": [
    "adjlist_BAN_4_sp = elitism_spanning_tree(adj_ban_4)\n",
    "#draw_network(adjlist_BAN_4_sp, output=png_namegen(dtype='BAN',gtype='ESpT', BAedge=4, wtype='plus'))"
   ]
  },
  {
   "cell_type": "code",
   "execution_count": 39,
   "metadata": {},
   "outputs": [
    {
     "name": "stdout",
     "output_type": "stream",
     "text": [
      "edges :  24975\n"
     ]
    }
   ],
   "source": [
    "adjlist_BAN_5_sp = elitism_spanning_tree(adj_ban_5)\n",
    "#draw_network(adjlist_BAN_5_sp)"
   ]
  },
  {
   "cell_type": "code",
   "execution_count": 40,
   "metadata": {},
   "outputs": [
    {
     "name": "stdout",
     "output_type": "stream",
     "text": [
      "edges :  49900\n"
     ]
    }
   ],
   "source": [
    "adjlist_BAN_10_sp = elitism_spanning_tree(adj_ban_10)\n",
    "#draw_network(adjlist_BAN_10_sp)"
   ]
  },
  {
   "cell_type": "code",
   "execution_count": 199,
   "metadata": {
    "scrolled": true
   },
   "outputs": [
    {
     "name": "stdout",
     "output_type": "stream",
     "text": [
      "edges :  88234\n",
      "eps =  0.002\n",
      "edges :  88234\n",
      "eps =  0.004\n",
      "edges :  88234\n",
      "eps =  0.006\n",
      "edges :  88234\n",
      "eps =  0.008\n",
      "edges :  88234\n",
      "eps =  0.01\n",
      "edges :  88234\n",
      "eps =  0.012\n",
      "edges :  88234\n",
      "eps =  0.014\n",
      "edges :  88234\n",
      "eps =  0.016\n",
      "edges :  88234\n",
      "eps =  0.018000000000000002\n"
     ]
    }
   ],
   "source": [
    "for i in range(1, 10):\n",
    "    eps = i*0.002\n",
    "    tmp = trim_network(elitism_spanning_subgraph(adjlist_FB_tr, cutoff = eps),cutoff=5)\n",
    "    print('eps = ',eps)\n",
    "    draw_network(tmp, output=png_namegen(dtype='FB',gtype='ESpS', wtype='plus', eps=eps, cutoff = 5))"
   ]
  },
  {
   "cell_type": "code",
   "execution_count": 200,
   "metadata": {
    "scrolled": false
   },
   "outputs": [
    {
     "name": "stdout",
     "output_type": "stream",
     "text": [
      "edges :  13422\n",
      "eps =  0.002\n",
      "edges :  13422\n",
      "eps =  0.004\n",
      "edges :  13422\n",
      "eps =  0.006\n",
      "edges :  13422\n",
      "eps =  0.008\n",
      "edges :  13422\n",
      "eps =  0.01\n",
      "edges :  13422\n",
      "eps =  0.012\n",
      "edges :  13422\n",
      "eps =  0.014\n",
      "edges :  13422\n",
      "eps =  0.016\n",
      "edges :  13422\n",
      "eps =  0.018000000000000002\n",
      "edges :  13422\n",
      "eps =  0.02\n",
      "edges :  13422\n",
      "eps =  0.022\n",
      "edges :  13422\n",
      "eps =  0.024\n",
      "edges :  13422\n",
      "eps =  0.026000000000000002\n",
      "edges :  13422\n",
      "eps =  0.028\n",
      "edges :  13422\n",
      "eps =  0.03\n",
      "edges :  13422\n",
      "eps =  0.032\n",
      "edges :  13422\n",
      "eps =  0.034\n",
      "edges :  13422\n",
      "eps =  0.036000000000000004\n",
      "edges :  13422\n",
      "eps =  0.038\n"
     ]
    }
   ],
   "source": [
    "for i in range(1, 20):\n",
    "    eps = i*0.002\n",
    "    tmp = trim_network(elitism_spanning_subgraph(adjlist_GR_tr, cutoff = eps),cutoff=5)\n",
    "    print('eps = ',eps)\n",
    "    draw_network(tmp, output=png_namegen(dtype='GR',gtype='ESpS', wtype='plus', eps=eps, cutoff = 5))"
   ]
  },
  {
   "cell_type": "code",
   "execution_count": 201,
   "metadata": {
    "scrolled": true
   },
   "outputs": [
    {
     "name": "stdout",
     "output_type": "stream",
     "text": [
      "edges :  83448\n",
      "eps =  0.001\n",
      "edges :  83448\n",
      "eps =  0.002\n",
      "edges :  83448\n",
      "eps =  0.003\n",
      "edges :  83448\n",
      "eps =  0.004\n",
      "edges :  83448\n",
      "eps =  0.005\n",
      "edges :  83448\n",
      "eps =  0.006\n",
      "edges :  83448\n",
      "eps =  0.007\n",
      "edges :  83448\n",
      "eps =  0.008\n",
      "edges :  83448\n",
      "eps =  0.009000000000000001\n"
     ]
    }
   ],
   "source": [
    "for i in range(1, 10):\n",
    "    eps = i*0.001\n",
    "    tmp = trim_network(elitism_spanning_subgraph(adj_swn_with_hub, cutoff = eps),cutoff=5)\n",
    "    print('eps = ',eps)\n",
    "    draw_network(tmp, output=png_namegen(dtype='SWNwH',gtype='ESpS', wtype='plus', eps=eps, cutoff = 5))"
   ]
  },
  {
   "cell_type": "code",
   "execution_count": 113,
   "metadata": {
    "scrolled": true
   },
   "outputs": [
    {
     "name": "stdout",
     "output_type": "stream",
     "text": [
      "edges :  19984\n",
      "eps =  0.002\n",
      "edges :  19984\n",
      "eps =  0.004\n",
      "edges :  19984\n",
      "eps =  0.006\n",
      "edges :  19984\n",
      "eps =  0.008\n",
      "edges :  19984\n",
      "eps =  0.01\n",
      "edges :  19984\n",
      "eps =  0.012\n",
      "edges :  19984\n",
      "eps =  0.014\n",
      "edges :  19984\n",
      "eps =  0.016\n",
      "edges :  19984\n",
      "eps =  0.018000000000000002\n"
     ]
    }
   ],
   "source": [
    "for i in range(1, 10):\n",
    "    eps = i*0.002\n",
    "    tmp = trim_network(elitism_spanning_subgraph(adj_ban_4, cutoff = eps),cutoff=5)\n",
    "    print('eps = ',eps)\n",
    "    draw_network(tmp, output=png_namegen(dtype='BAN',gtype='ESpS', BAedge=4, wtype='plus', eps=eps, cutoff = 5))"
   ]
  },
  {
   "cell_type": "code",
   "execution_count": 119,
   "metadata": {},
   "outputs": [],
   "source": [
    "#Draw Weight Histogram\n",
    "def get_weight_spectra(adj_L,breaks = 10, rang=None, log = False, wtype='plus', output = None):\n",
    "    n = len(adj_L)\n",
    "    spec = [0] * (n+n+1)\n",
    "    X = [0] + [1/(i+1) for i in range(2*n)]\n",
    "    #X = np.arange(0, 2*n+1)\n",
    "    for i in range(n):\n",
    "        for j in adj_L[i]:\n",
    "            w = len(adj_L[i]) + len(adj_L[j]) if wtype == 'plus' else max(len(adj_L[i]), len(adj_L[j]))\n",
    "            if i<j: spec[w] += 1\n",
    "    \n",
    "    _ = plt.hist(X, bins = breaks, range = rang, log = log, weights=spec)\n",
    "    if output: plt.savefig(output)"
   ]
  },
  {
   "cell_type": "code",
   "execution_count": 216,
   "metadata": {},
   "outputs": [
    {
     "name": "stdout",
     "output_type": "stream",
     "text": [
      "18\n",
      "0\n"
     ]
    },
    {
     "data": {
      "image/png": "[encoded data removed]",
      "text/plain": [
       "<Figure size 432x288 with 1 Axes>"
      ]
     },
     "metadata": {
      "needs_background": "light"
     },
     "output_type": "display_data"
    }
   ],
   "source": [
    "getdeg(adj_swn_with_hub, output=hist_namegen(dtype='SWNwH',htype='degree'))"
   ]
  },
  {
   "cell_type": "code",
   "execution_count": 117,
   "metadata": {},
   "outputs": [
    {
     "name": "stdout",
     "output_type": "stream",
     "text": [
      "124\n",
      "0\n"
     ]
    },
    {
     "data": {
      "image/png": "[encoded data removed]",
      "text/plain": [
       "<Figure size 432x288 with 1 Axes>"
      ]
     },
     "metadata": {
      "needs_background": "light"
     },
     "output_type": "display_data"
    }
   ],
   "source": [
    "getdeg(adj_ban_4, output=hist_namegen(dtype='BAN',htype='degree', BAedge=4))"
   ]
  },
  {
   "cell_type": "code",
   "execution_count": 221,
   "metadata": {},
   "outputs": [
    {
     "data": {
      "image/png": "[encoded data removed]",
      "text/plain": [
       "<Figure size 432x288 with 1 Axes>"
      ]
     },
     "metadata": {
      "needs_background": "light"
     },
     "output_type": "display_data"
    }
   ],
   "source": [
    "get_weight_spectra(adj_swn_with_hub, breaks = 100, rang=(0,0.025), output=hist_namegen(dtype='SWNwH',htype='weight',wtype='plus',breaks=100,rang=0.025))"
   ]
  },
  {
   "cell_type": "code",
   "execution_count": 124,
   "metadata": {},
   "outputs": [
    {
     "data": {
      "image/png": "[encoded data removed]",
      "text/plain": [
       "<Figure size 432x288 with 1 Axes>"
      ]
     },
     "metadata": {
      "needs_background": "light"
     },
     "output_type": "display_data"
    }
   ],
   "source": [
    "get_weight_spectra(adj_ban_4, breaks = 100, rang=(0,0.12), output=hist_namegen(dtype='BAN',htype='weight',wtype='plus',BAedge=4,breaks=100,rang=0.012))"
   ]
  },
  {
   "cell_type": "code",
   "execution_count": 223,
   "metadata": {},
   "outputs": [
    {
     "data": {
      "image/png": "[encoded data removed]",
      "text/plain": [
       "<Figure size 432x288 with 1 Axes>"
      ]
     },
     "metadata": {
      "needs_background": "light"
     },
     "output_type": "display_data"
    }
   ],
   "source": [
    "get_weight_spectra(adjlist_GR, breaks = 100, rang=(0,0.5), output=hist_namegen(dtype='GR',htype='weight',wtype='plus',breaks=100,rang=0.05))"
   ]
  },
  {
   "cell_type": "code",
   "execution_count": 224,
   "metadata": {},
   "outputs": [
    {
     "data": {
      "image/png": "[encoded data removed]",
      "text/plain": [
       "<Figure size 432x288 with 1 Axes>"
      ]
     },
     "metadata": {
      "needs_background": "light"
     },
     "output_type": "display_data"
    }
   ],
   "source": [
    "get_weight_spectra(adjlist_FB, breaks = 100, rang=(0,0.1), output=hist_namegen(dtype='FB',htype='weight',wtype='plus',breaks=100,rang=0.1))"
   ]
  },
  {
   "cell_type": "code",
   "execution_count": 45,
   "metadata": {},
   "outputs": [],
   "source": [
    "export(adjlist_FB, filename = adjlist_namegen(dtype='FB', gtype='Raw'))\n",
    "export(adjlist_GR, filename = adjlist_namegen(dtype='GR', gtype='Raw'))\n",
    "export(adj_swn_with_hub, filename = adjlist_namegen(dtype='SWNwH', gtype='Raw'))\n",
    "export(adj_ban_4, filename=adjlist_namegen(dtype='BAN',gtype='Raw', BAedge=4))"
   ]
  },
  {
   "cell_type": "code",
   "execution_count": 46,
   "metadata": {},
   "outputs": [],
   "source": [
    "export(adjlist_GR_tr, filename = adjlist_namegen(dtype='GR',gtype='Trim',cutoff=20))"
   ]
  }
 ],
 "metadata": {
  "kernelspec": {
   "display_name": "Python 3",
   "language": "python",
   "name": "python3"
  },
  "language_info": {
   "codemirror_mode": {
    "name": "ipython",
    "version": 3
   },
   "file_extension": ".py",
   "mimetype": "text/x-python",
   "name": "python",
   "nbconvert_exporter": "python",
   "pygments_lexer": "ipython3",
   "version": "3.5.2"
  }
 },
 "nbformat": 4,
 "nbformat_minor": 2
}
